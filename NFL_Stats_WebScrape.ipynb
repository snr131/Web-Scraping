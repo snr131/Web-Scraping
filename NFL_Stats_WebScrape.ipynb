{
  "nbformat": 4,
  "nbformat_minor": 0,
  "metadata": {
    "colab": {
      "name": "NFL_Stats_WebScrape.ipynb",
      "provenance": [],
      "collapsed_sections": [],
      "authorship_tag": "ABX9TyMcEjhnlWZx4m033e5b2KBa"
    },
    "kernelspec": {
      "name": "python3",
      "display_name": "Python 3"
    },
    "language_info": {
      "name": "python"
    }
  },
  "cells": [
    {
      "cell_type": "markdown",
      "metadata": {
        "id": "U7AKHXU5sunI"
      },
      "source": [
        "Using the CBS 2020 NFL Player Statistics, I will use BeautifulSoup to show the 20 players with the highest number of passing touchdowns."
      ]
    },
    {
      "cell_type": "code",
      "metadata": {
        "id": "Y3wIiIc0-ZdJ"
      },
      "source": [
        "# import requests to get the html from the url\n",
        "import requests\n",
        "# import BeautifulSoup to parse the html\n",
        "from bs4 import BeautifulSoup"
      ],
      "execution_count": 1,
      "outputs": []
    },
    {
      "cell_type": "code",
      "metadata": {
        "id": "F4ePjnD4_B4k"
      },
      "source": [
        "# this url sorts the players in descending order by passing touchdowns\n",
        "url = \"https://www.cbssports.com/nfl/stats/player/passing/nfl/regular/all/?sortcol=td&sortdir=descending\""
      ],
      "execution_count": 2,
      "outputs": []
    },
    {
      "cell_type": "code",
      "metadata": {
        "id": "KgKF5iVt_F2u"
      },
      "source": [
        "# get the url using the requests library\n",
        "page = requests.get(url).text"
      ],
      "execution_count": 3,
      "outputs": []
    },
    {
      "cell_type": "code",
      "metadata": {
        "id": "_bYB5L8W_I4A"
      },
      "source": [
        "# convert the html to a BeautifulSoup object\n",
        "soup = BeautifulSoup(page, features='html5lib')"
      ],
      "execution_count": 4,
      "outputs": []
    },
    {
      "cell_type": "code",
      "metadata": {
        "id": "KYbsL_JB_Rwg"
      },
      "source": [
        "# access the first table\n",
        "table = soup.table"
      ],
      "execution_count": 5,
      "outputs": []
    },
    {
      "cell_type": "code",
      "metadata": {
        "id": "gEgnoCb_8VPH"
      },
      "source": [
        "# access player stats\n",
        "players = table.find_all('tr', limit=21)[1:] # omit the header\n",
        "for player in players:\n",
        "  name = player.find(attrs={'class': \"CellPlayerName--long\"}).a.text.strip()\n",
        "  position = player.find(attrs={'class': \"CellPlayerName-position\"}).text.strip()\n",
        "  team = player.find(attrs={'class': \"CellPlayerName-team\"}).text.strip()\n",
        "  stats = player.find_all(class_=\"TableBase-bodyTd TableBase-bodyTd--number \")\n",
        "  touchdowns = stats[7].text.strip()\n",
        "  print('''\n",
        "  Player: {}  \n",
        "  Position: {}\n",
        "  Team: {}\n",
        "  Passing Touchdowns: {}'''.format(name, position, team, touchdowns))"
      ],
      "execution_count": null,
      "outputs": []
    },
    {
      "cell_type": "code",
      "metadata": {
        "id": "hA1r_mXFGJjp"
      },
      "source": [
        "# function to get stats\n",
        "def get_stats(str_url):\n",
        "  page = requests.get(str_url).text\n",
        "  soup = BeautifulSoup(page, features='html5lib')\n",
        "  players = soup.table.find_all('tr', limit=21)[1:]\n",
        "  table = soup.table\n",
        "  players = table.find_all('tr', limit=21)[1:]\n",
        "  for player in players:\n",
        "    name = player.find(attrs={'class': \"CellPlayerName--long\"}).a.text.strip()\n",
        "    position = player.find(attrs={'class': \"CellPlayerName-position\"}).text.strip()\n",
        "    team = player.find(attrs={'class': \"CellPlayerName-team\"}).text.strip()\n",
        "    stats = player.find_all(class_=\"TableBase-bodyTd TableBase-bodyTd--number \")\n",
        "    touchdowns = stats[7].text.strip()\n",
        "    print('''\n",
        "    Player: {}  \n",
        "    Position: {}\n",
        "    Team: {}\n",
        "    Passing Touchdowns: {}'''.format(name, position, team, touchdowns))"
      ],
      "execution_count": 7,
      "outputs": []
    },
    {
      "cell_type": "code",
      "metadata": {
        "colab": {
          "base_uri": "https://localhost:8080/"
        },
        "id": "romW_cDnGqRz",
        "outputId": "118e751e-9927-4477-b246-893722ea6eb8"
      },
      "source": [
        "get_stats(\"https://www.cbssports.com/nfl/stats/player/passing/nfl/regular/all/?sortcol=td&sortdir=descending\")"
      ],
      "execution_count": 8,
      "outputs": [
        {
          "output_type": "stream",
          "text": [
            "\n",
            "    Player: Aaron Rodgers  \n",
            "    Position: QB\n",
            "    Team: GB\n",
            "    Passing Touchdowns: 48\n",
            "\n",
            "    Player: Tom Brady  \n",
            "    Position: QB\n",
            "    Team: TB\n",
            "    Passing Touchdowns: 40\n",
            "\n",
            "    Player: Russell Wilson  \n",
            "    Position: QB\n",
            "    Team: SEA\n",
            "    Passing Touchdowns: 40\n",
            "\n",
            "    Player: Patrick Mahomes  \n",
            "    Position: QB\n",
            "    Team: KC\n",
            "    Passing Touchdowns: 38\n",
            "\n",
            "    Player: Josh Allen  \n",
            "    Position: QB\n",
            "    Team: BUF\n",
            "    Passing Touchdowns: 37\n",
            "\n",
            "    Player: Kirk Cousins  \n",
            "    Position: QB\n",
            "    Team: MIN\n",
            "    Passing Touchdowns: 35\n",
            "\n",
            "    Player: Ben Roethlisberger  \n",
            "    Position: QB\n",
            "    Team: PIT\n",
            "    Passing Touchdowns: 33\n",
            "\n",
            "    Player: Ryan Tannehill  \n",
            "    Position: QB\n",
            "    Team: TEN\n",
            "    Passing Touchdowns: 33\n",
            "\n",
            "    Player: Deshaun Watson  \n",
            "    Position: QB\n",
            "    Team: HOU\n",
            "    Passing Touchdowns: 33\n",
            "\n",
            "    Player: Justin Herbert  \n",
            "    Position: QB\n",
            "    Team: LAC\n",
            "    Passing Touchdowns: 31\n",
            "\n",
            "    Player: Derek Carr  \n",
            "    Position: QB\n",
            "    Team: LV\n",
            "    Passing Touchdowns: 27\n",
            "\n",
            "    Player: Lamar Jackson  \n",
            "    Position: QB\n",
            "    Team: BAL\n",
            "    Passing Touchdowns: 26\n",
            "\n",
            "    Player: Baker Mayfield  \n",
            "    Position: QB\n",
            "    Team: CLE\n",
            "    Passing Touchdowns: 26\n",
            "\n",
            "    Player: Kyler Murray  \n",
            "    Position: QB\n",
            "    Team: ARI\n",
            "    Passing Touchdowns: 26\n",
            "\n",
            "    Player: Matt Ryan  \n",
            "    Position: QB\n",
            "    Team: ATL\n",
            "    Passing Touchdowns: 26\n",
            "\n",
            "    Player: Matthew Stafford  \n",
            "    Position: QB\n",
            "    Team: LAR\n",
            "    Passing Touchdowns: 26\n",
            "\n",
            "    Player: Drew Brees  \n",
            "    Position: QB\n",
            "    Team: NO\n",
            "    Passing Touchdowns: 24\n",
            "\n",
            "    Player: Philip Rivers  \n",
            "    Position: QB\n",
            "    Team: IND\n",
            "    Passing Touchdowns: 24\n",
            "\n",
            "    Player: Jared Goff  \n",
            "    Position: QB\n",
            "    Team: LAR\n",
            "    Passing Touchdowns: 20\n",
            "\n",
            "    Player: Drew Lock  \n",
            "    Position: QB\n",
            "    Team: DEN\n",
            "    Passing Touchdowns: 16\n"
          ],
          "name": "stdout"
        }
      ]
    }
  ]
}