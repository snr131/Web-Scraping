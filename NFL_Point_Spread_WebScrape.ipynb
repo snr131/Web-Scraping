{
  "nbformat": 4,
  "nbformat_minor": 0,
  "metadata": {
    "colab": {
      "name": "NFL_Point_Spread_WebScrape.ipynb",
      "provenance": [],
      "collapsed_sections": [],
      "authorship_tag": "ABX9TyNXuRm0905KUpyPoaangqkE"
    },
    "kernelspec": {
      "name": "python3",
      "display_name": "Python 3"
    },
    "language_info": {
      "name": "python"
    }
  },
  "cells": [
    {
      "cell_type": "markdown",
      "metadata": {
        "id": "HFO_KWphoaVn"
      },
      "source": [
        "The funtion below scrapes the [week 17 speads reported by FootballLOCKS](http://www.footballlocks.com/nfl_point_spreads.shtml)."
      ]
    },
    {
      "cell_type": "code",
      "metadata": {
        "id": "rOTEFVS4IPhN"
      },
      "source": [
        "# import requests to get the html from the url\n",
        "import requests\n",
        "# import BeautifulSoup to parse the html\n",
        "from bs4 import BeautifulSoup"
      ],
      "execution_count": 1,
      "outputs": []
    },
    {
      "cell_type": "code",
      "metadata": {
        "id": "xdhzvIoiKQqw"
      },
      "source": [
        "url = 'http://www.footballlocks.com/nfl_point_spreads.shtml'"
      ],
      "execution_count": 2,
      "outputs": []
    },
    {
      "cell_type": "code",
      "metadata": {
        "id": "tHS8Ew8PLAIP"
      },
      "source": [
        "# get the url using the requests library\n",
        "page = requests.get(url).text"
      ],
      "execution_count": 3,
      "outputs": []
    },
    {
      "cell_type": "code",
      "metadata": {
        "id": "WYbE8YhdLEGE"
      },
      "source": [
        "# convert the html to a BeautifulSoup object\n",
        "soup = BeautifulSoup(page, features='html5lib')"
      ],
      "execution_count": 4,
      "outputs": []
    },
    {
      "cell_type": "code",
      "metadata": {
        "id": "F_3adKN_e9W_"
      },
      "source": [
        "# isolate the 13th nested table data from the first table\n",
        "nestedtables = soup.table.find_all('table')\n",
        "nestedtable = nestedtables[13]"
      ],
      "execution_count": 5,
      "outputs": []
    },
    {
      "cell_type": "code",
      "metadata": {
        "id": "otSgXvRqf4hV"
      },
      "source": [
        "# isolate the table row data from the nested table\n",
        "trs = nestedtable.find_all('tr')"
      ],
      "execution_count": 6,
      "outputs": []
    },
    {
      "cell_type": "code",
      "metadata": {
        "id": "LO5Z4FBbhusb"
      },
      "source": [
        "# the spread stats are rows 30 thru 46\n",
        "spreadStats = trs[31:47]"
      ],
      "execution_count": 7,
      "outputs": []
    },
    {
      "cell_type": "code",
      "metadata": {
        "colab": {
          "base_uri": "https://localhost:8080/"
        },
        "id": "7GZpi2p6jjF5",
        "outputId": "d3e36e27-ef7a-4420-88fe-3bc259392c01"
      },
      "source": [
        "for stat in spreadStats:\n",
        "  gameinfo = stat.find_all('td')\n",
        "  date_and_time = gameinfo[0].text\n",
        "  favorite = gameinfo[1].text\n",
        "  spread = gameinfo[2].text\n",
        "  underdog = gameinfo[3].text\n",
        "  print('''\n",
        "  Date & Time: {}\n",
        "  Favorite: {}\n",
        "  Spread: {}\n",
        "  Underdog: {}'''.format(date_and_time, favorite, spread, underdog))\n"
      ],
      "execution_count": 8,
      "outputs": [
        {
          "output_type": "stream",
          "text": [
            "\n",
            "  Date & Time: 1/3 8:20 ET\n",
            "  Favorite: Washington\n",
            "  Spread: -6\n",
            "  Underdog: At Philadelphia\n",
            "\n",
            "  Date & Time: 1/3 4:25 ET\n",
            "  Favorite: At Indianapolis\n",
            "  Spread: -15\n",
            "  Underdog: Jacksonville\n",
            "\n",
            "  Date & Time: 1/3 4:25 ET\n",
            "  Favorite: Green Bay\n",
            "  Spread: -4\n",
            "  Underdog: At Chicago\n",
            "\n",
            "  Date & Time: 1/3 1:00 ET\n",
            "  Favorite: Dallas\n",
            "  Spread: -1.5\n",
            "  Underdog: At NY Giants\n",
            "\n",
            "  Date & Time: 1/3 1:00 ET\n",
            "  Favorite: At Cleveland\n",
            "  Spread: -10\n",
            "  Underdog: Pittsburgh\n",
            "\n",
            "  Date & Time: 1/3 4:25 ET\n",
            "  Favorite: Tennessee\n",
            "  Spread: -7\n",
            "  Underdog: At Houston\n",
            "\n",
            "  Date & Time: 1/3 4:25 ET\n",
            "  Favorite: New Orleans\n",
            "  Spread: -6\n",
            "  Underdog: At Carolina\n",
            "\n",
            "  Date & Time: 1/3 1:00 ET\n",
            "  Favorite: At New England\n",
            "  Spread: -3\n",
            "  Underdog: NY Jets\n",
            "\n",
            "  Date & Time: 1/3 1:00 ET\n",
            "  Favorite: Minnesota\n",
            "  Spread: -3\n",
            "  Underdog: At Detroit\n",
            "\n",
            "  Date & Time: 1/3 1:00 ET\n",
            "  Favorite: At Tampa Bay\n",
            "  Spread: -7\n",
            "  Underdog: Atlanta\n",
            "\n",
            "  Date & Time: 1/3 1:00 ET\n",
            "  Favorite: Baltimore\n",
            "  Spread: -13.5\n",
            "  Underdog: At Cincinnati\n",
            "\n",
            "  Date & Time: 1/3 1:00 ET\n",
            "  Favorite: Miami\n",
            "  Spread: -2\n",
            "  Underdog: At Buffalo\n",
            "\n",
            "  Date & Time: 1/3 4:25 ET\n",
            "  Favorite: LA Chargers\n",
            "  Spread: -5.5\n",
            "  Underdog: At Kansas City\n",
            "\n",
            "  Date & Time: 1/3 4:25 ET\n",
            "  Favorite: Seattle\n",
            "  Spread: -7\n",
            "  Underdog: At San Francisco\n",
            "\n",
            "  Date & Time: 1/3 4:25 ET\n",
            "  Favorite: Las Vegas\n",
            "  Spread: -2.5\n",
            "  Underdog: At Denver\n",
            "\n",
            "  Date & Time: 1/3 4:25 ET\n",
            "  Favorite: Arizona\n",
            "  Spread: -1\n",
            "  Underdog: At LA Rams\n"
          ],
          "name": "stdout"
        }
      ]
    },
    {
      "cell_type": "code",
      "metadata": {
        "id": "UMmxMH2wpGJi"
      },
      "source": [
        "def get_spread(str_url):\n",
        "  page = requests.get(str_url).text\n",
        "  soup = BeautifulSoup(page, features='html5lib')\n",
        "  nestedtables = soup.table.find_all('table')\n",
        "  nestedtable = nestedtables[13]\n",
        "  trs = nestedtable.find_all('tr')\n",
        "  spreadStats = trs[31:47]\n",
        "  for stat in spreadStats:\n",
        "    gameinfo = stat.find_all('td')\n",
        "    date_and_time = gameinfo[0].text\n",
        "    favorite = gameinfo[1].text\n",
        "    spread = gameinfo[2].text\n",
        "    underdog = gameinfo[3].text\n",
        "    print('''\n",
        "    Date & Time: {}\n",
        "    Favorite: {}\n",
        "    Spread: {}\n",
        "    Underdog: {}'''.format(date_and_time, favorite, spread, underdog))"
      ],
      "execution_count": 9,
      "outputs": []
    },
    {
      "cell_type": "code",
      "metadata": {
        "colab": {
          "base_uri": "https://localhost:8080/"
        },
        "id": "fMBZOKTLpFSn",
        "outputId": "532f2aa2-9adb-46f2-f3dd-23aed087e642"
      },
      "source": [
        "get_spread('http://www.footballlocks.com/nfl_point_spreads.shtml')"
      ],
      "execution_count": 10,
      "outputs": [
        {
          "output_type": "stream",
          "text": [
            "\n",
            "    Date & Time: 1/3 8:20 ET\n",
            "    Favorite: Washington\n",
            "    Spread: -6\n",
            "    Underdog: At Philadelphia\n",
            "\n",
            "    Date & Time: 1/3 4:25 ET\n",
            "    Favorite: At Indianapolis\n",
            "    Spread: -15\n",
            "    Underdog: Jacksonville\n",
            "\n",
            "    Date & Time: 1/3 4:25 ET\n",
            "    Favorite: Green Bay\n",
            "    Spread: -4\n",
            "    Underdog: At Chicago\n",
            "\n",
            "    Date & Time: 1/3 1:00 ET\n",
            "    Favorite: Dallas\n",
            "    Spread: -1.5\n",
            "    Underdog: At NY Giants\n",
            "\n",
            "    Date & Time: 1/3 1:00 ET\n",
            "    Favorite: At Cleveland\n",
            "    Spread: -10\n",
            "    Underdog: Pittsburgh\n",
            "\n",
            "    Date & Time: 1/3 4:25 ET\n",
            "    Favorite: Tennessee\n",
            "    Spread: -7\n",
            "    Underdog: At Houston\n",
            "\n",
            "    Date & Time: 1/3 4:25 ET\n",
            "    Favorite: New Orleans\n",
            "    Spread: -6\n",
            "    Underdog: At Carolina\n",
            "\n",
            "    Date & Time: 1/3 1:00 ET\n",
            "    Favorite: At New England\n",
            "    Spread: -3\n",
            "    Underdog: NY Jets\n",
            "\n",
            "    Date & Time: 1/3 1:00 ET\n",
            "    Favorite: Minnesota\n",
            "    Spread: -3\n",
            "    Underdog: At Detroit\n",
            "\n",
            "    Date & Time: 1/3 1:00 ET\n",
            "    Favorite: At Tampa Bay\n",
            "    Spread: -7\n",
            "    Underdog: Atlanta\n",
            "\n",
            "    Date & Time: 1/3 1:00 ET\n",
            "    Favorite: Baltimore\n",
            "    Spread: -13.5\n",
            "    Underdog: At Cincinnati\n",
            "\n",
            "    Date & Time: 1/3 1:00 ET\n",
            "    Favorite: Miami\n",
            "    Spread: -2\n",
            "    Underdog: At Buffalo\n",
            "\n",
            "    Date & Time: 1/3 4:25 ET\n",
            "    Favorite: LA Chargers\n",
            "    Spread: -5.5\n",
            "    Underdog: At Kansas City\n",
            "\n",
            "    Date & Time: 1/3 4:25 ET\n",
            "    Favorite: Seattle\n",
            "    Spread: -7\n",
            "    Underdog: At San Francisco\n",
            "\n",
            "    Date & Time: 1/3 4:25 ET\n",
            "    Favorite: Las Vegas\n",
            "    Spread: -2.5\n",
            "    Underdog: At Denver\n",
            "\n",
            "    Date & Time: 1/3 4:25 ET\n",
            "    Favorite: Arizona\n",
            "    Spread: -1\n",
            "    Underdog: At LA Rams\n"
          ],
          "name": "stdout"
        }
      ]
    }
  ]
}